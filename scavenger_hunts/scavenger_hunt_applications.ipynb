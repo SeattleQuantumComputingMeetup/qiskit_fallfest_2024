{
 "cells": [
  {
   "cell_type": "markdown",
   "id": "26892267-ddff-43cd-8347-039126788647",
   "metadata": {},
   "source": [
    "# Scavenger Hunt - Applications\n",
    "\n",
    "Note: for the questions below, you can hunt for the answers in the links embedded in the questions, by looking through the information on the QApplications tab, or by using your favorite search engine.  You can add your answers to this Jupyter notebook using Markdown in the answer cells, or you can create a separate document with your answers.  "
   ]
  },
  {
   "cell_type": "markdown",
   "id": "869deb65-3234-46c6-8b07-9b7d91b4d0b3",
   "metadata": {},
   "source": [
    "##### 1. Q1"
   ]
  },
  {
   "cell_type": "markdown",
   "id": "bd5b8fa4-09f9-4f42-8fd9-fe5da40d8403",
   "metadata": {},
   "source": [
    "Answer: (fill-in)"
   ]
  },
  {
   "cell_type": "markdown",
   "id": "c1aa418c-26cd-4c08-8eb4-d02ee369ecd9",
   "metadata": {},
   "source": [
    "##### 2. Q2"
   ]
  },
  {
   "cell_type": "markdown",
   "id": "12d0b176-081c-4538-b3b8-e7eefa5743d1",
   "metadata": {},
   "source": [
    "Answer: (fill-in)"
   ]
  },
  {
   "cell_type": "markdown",
   "id": "95ec37e0-38c1-4cad-a14d-76a836ad39ce",
   "metadata": {},
   "source": [
    "##### 3. Q3"
   ]
  },
  {
   "cell_type": "markdown",
   "id": "efcf0c69-f541-4eb3-af5f-29947c9c3bf4",
   "metadata": {},
   "source": [
    "Answer: (fill-in)"
   ]
  },
  {
   "cell_type": "markdown",
   "id": "eb914ecb-5402-43d9-88cb-0352da9a8901",
   "metadata": {},
   "source": [
    "##### 4. Q4"
   ]
  },
  {
   "cell_type": "markdown",
   "id": "59206230-ed7a-4670-ad3e-ed6e3d3461c8",
   "metadata": {},
   "source": [
    "Answer: (fill-in)"
   ]
  },
  {
   "cell_type": "markdown",
   "id": "a75f9a6e-acec-47f2-a052-2fc212d83108",
   "metadata": {},
   "source": [
    "##### 5. Q5"
   ]
  },
  {
   "cell_type": "markdown",
   "id": "81a7095b-62c1-48ca-b0d3-b2c384b68171",
   "metadata": {},
   "source": [
    "Answer: (fill-in)"
   ]
  },
  {
   "cell_type": "markdown",
   "id": "6b8f3b74-8feb-4545-b1fa-cd18787c38b5",
   "metadata": {},
   "source": [
    "##### 6. Q6"
   ]
  },
  {
   "cell_type": "markdown",
   "id": "8d9dc678-3133-4894-b558-7168b17a4866",
   "metadata": {},
   "source": [
    "Answer: (fill-in)"
   ]
  },
  {
   "cell_type": "markdown",
   "id": "0b20049b-63aa-484a-9dcf-2dd603fed700",
   "metadata": {},
   "source": [
    "##### 7. Q7"
   ]
  },
  {
   "cell_type": "markdown",
   "id": "f3152d0e-9e7a-4c65-b401-4a4496460a7f",
   "metadata": {},
   "source": [
    "Answer: (fill-in)"
   ]
  },
  {
   "cell_type": "markdown",
   "id": "35ee4544-6e7b-40e3-8054-3b527733f2b8",
   "metadata": {},
   "source": [
    "##### 8. Q8"
   ]
  },
  {
   "cell_type": "markdown",
   "id": "0c812db9-0e46-4224-8652-e2bcbc492857",
   "metadata": {},
   "source": [
    "Answer: (fill-in)"
   ]
  },
  {
   "cell_type": "markdown",
   "id": "aa23adf1-a90e-403b-ac7f-ab1324f81295",
   "metadata": {},
   "source": [
    "##### 9. Q9"
   ]
  },
  {
   "cell_type": "markdown",
   "id": "79b4b95d-ec0d-46cc-8376-508a848cc7c1",
   "metadata": {},
   "source": [
    "Answer: (fill-in)"
   ]
  },
  {
   "cell_type": "markdown",
   "id": "60cefd91-17dc-4caa-bf65-71532c9b684b",
   "metadata": {},
   "source": [
    "##### 10. Q10"
   ]
  },
  {
   "cell_type": "markdown",
   "id": "0c6f32ca-c0cb-4836-87d7-d57c94b1ea1d",
   "metadata": {},
   "source": [
    "Answer: (fill-in)"
   ]
  }
 ],
 "metadata": {
  "kernelspec": {
   "display_name": "azq_py312",
   "language": "python",
   "name": "azq_py312"
  },
  "language_info": {
   "codemirror_mode": {
    "name": "ipython",
    "version": 3
   },
   "file_extension": ".py",
   "mimetype": "text/x-python",
   "name": "python",
   "nbconvert_exporter": "python",
   "pygments_lexer": "ipython3",
   "version": "3.12.7"
  }
 },
 "nbformat": 4,
 "nbformat_minor": 5
}
