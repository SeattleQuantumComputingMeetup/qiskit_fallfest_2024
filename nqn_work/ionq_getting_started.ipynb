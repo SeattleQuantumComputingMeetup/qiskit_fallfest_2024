{
 "cells": [
  {
   "cell_type": "code",
   "execution_count": 9,
   "id": "c28b6010-435a-4d4a-bab7-e6261980d16a",
   "metadata": {},
   "outputs": [],
   "source": [
    "#import os\n",
    "#from qiskit_ionq import IonQProvider\n",
    "\n",
    "# Load your API key from an environment variable named IONQ_API_KEY\n",
    "#my_api_key = os.getenv(\"IONQ_API_KEY\")\n",
    "\n",
    "#print(my_api_key)\n",
    "\n",
    "#provider = IonQProvider(my_api_key)"
   ]
  },
  {
   "cell_type": "code",
   "execution_count": 1,
   "id": "06641f53-b48e-4853-9422-6142eeccc4fc",
   "metadata": {},
   "outputs": [
    {
     "name": "stdout",
     "output_type": "stream",
     "text": [
      "[<IonQSimulatorBackend('ionq_simulator')>, <IonQQPUBackend('ionq_qpu')>]\n"
     ]
    }
   ],
   "source": [
    "from qiskit_ionq import IonQProvider\n",
    "provider = IonQProvider()\n",
    "\n",
    "print(provider.backends())"
   ]
  },
  {
   "cell_type": "markdown",
   "id": "d665e25f-51df-4f57-a4c1-c90008607115",
   "metadata": {},
   "source": [
    "# Bell State Circuit"
   ]
  },
  {
   "cell_type": "code",
   "execution_count": 2,
   "id": "f6b5cbb9-2cad-4208-b500-02c8860b0cf7",
   "metadata": {},
   "outputs": [
    {
     "name": "stdout",
     "output_type": "stream",
     "text": [
      "{'00': np.int64(5043), '11': np.int64(4957)}\n"
     ]
    }
   ],
   "source": [
    "from qiskit import QuantumCircuit\n",
    "\n",
    "simulator_backend = provider.get_backend(\"ionq_simulator\")\n",
    "\n",
    "# Create a basic Bell State circuit:\n",
    "qc = QuantumCircuit(2, 2)\n",
    "qc.h(0)\n",
    "qc.cx(0, 1)\n",
    "qc.measure([0, 1], [0, 1])\n",
    "\n",
    "# Run the circuit on IonQ's platform:\n",
    "job = simulator_backend.run(qc, shots=10000)\n",
    "\n",
    "# Print the counts\n",
    "print(job.get_counts())"
   ]
  },
  {
   "cell_type": "code",
   "execution_count": 3,
   "id": "e44bc4cc-ec19-4b80-9870-5611c7f6164c",
   "metadata": {},
   "outputs": [
    {
     "name": "stdout",
     "output_type": "stream",
     "text": [
      "[{'00': np.int64(519), '11': np.int64(505)}, {'000': np.int64(500), '111': np.int64(524)}]\n",
      "{'00': np.int64(519), '11': np.int64(505)}\n"
     ]
    }
   ],
   "source": [
    "# Define two quantum circuits\n",
    "qc1 = QuantumCircuit(2, name=\"bell state\")\n",
    "qc1.h(0)\n",
    "qc1.cx(0, 1)\n",
    "qc1.measure_all()\n",
    "\n",
    "qc2 = QuantumCircuit(3, name=\"ghz state\")\n",
    "qc2.h(0)\n",
    "qc2.cx(0, 1)\n",
    "qc2.cx(0, 2)\n",
    "qc2.measure_all()\n",
    "\n",
    "# Submit both circuits as a single job\n",
    "job = simulator_backend.run([qc1, qc2])\n",
    "\n",
    "# Print the results\n",
    "print(job.get_counts())\n",
    "\n",
    "# Or a specific job\n",
    "print(job.get_counts(qc1))"
   ]
  },
  {
   "cell_type": "code",
   "execution_count": 4,
   "id": "b9132e7b-b88e-41ac-a89d-8962d8abeb95",
   "metadata": {},
   "outputs": [
    {
     "name": "stdout",
     "output_type": "stream",
     "text": [
      "{'00': np.int64(4901), '01': np.int64(32), '10': np.int64(29), '11': np.int64(5038)}\n"
     ]
    }
   ],
   "source": [
    "# Create a basic Bell State circuit:\n",
    "qc = QuantumCircuit(2, 2)\n",
    "qc.h(0)\n",
    "qc.cx(0, 1)\n",
    "qc.measure([0, 1], [0, 1])\n",
    "\n",
    "# Run the circuit on IonQ's platform:\n",
    "job = simulator_backend.run(qc, shots=10000, noise_model=\"aria-1\")\n",
    "\n",
    "# Print the counts\n",
    "print(job.get_counts())"
   ]
  },
  {
   "cell_type": "code",
   "execution_count": null,
   "id": "e553b05e-7392-4665-bc5e-799b0d938a0b",
   "metadata": {},
   "outputs": [],
   "source": []
  }
 ],
 "metadata": {
  "kernelspec": {
   "display_name": "ionq_py311",
   "language": "python",
   "name": "ionq_py311"
  },
  "language_info": {
   "codemirror_mode": {
    "name": "ipython",
    "version": 3
   },
   "file_extension": ".py",
   "mimetype": "text/x-python",
   "name": "python",
   "nbconvert_exporter": "python",
   "pygments_lexer": "ipython3",
   "version": "3.11.9"
  }
 },
 "nbformat": 4,
 "nbformat_minor": 5
}
