{
 "cells": [
  {
   "cell_type": "markdown",
   "id": "7d5a278b-d335-4743-a737-d435c5da0c28",
   "metadata": {},
   "source": [
    "# Introduction to the Iterative Quantum Phase Estimation Algorithm"
   ]
  },
  {
   "cell_type": "markdown",
   "id": "72ca503d-1159-46ec-9b1f-77e606b925a6",
   "metadata": {},
   "source": [
    "#### We can run the algorithm on either an IONQ Simulator, or on an actual IONQ QPU"
   ]
  },
  {
   "cell_type": "code",
   "execution_count": 1,
   "id": "ae95b7c4-984c-46cb-a19d-eb34b0469099",
   "metadata": {},
   "outputs": [
    {
     "name": "stdout",
     "output_type": "stream",
     "text": [
      "[<IonQSimulatorBackend('ionq_simulator')>, <IonQQPUBackend('ionq_qpu')>]\n"
     ]
    }
   ],
   "source": [
    "from qiskit_ionq import IonQProvider\n",
    "provider = IonQProvider()\n",
    "\n",
    "print(provider.backends())"
   ]
  },
  {
   "cell_type": "markdown",
   "id": "67eae2a8-57c2-4389-840a-f271b9047792",
   "metadata": {},
   "source": [
    "#### Import necessary libraries to define the algorithm and explore the results"
   ]
  },
  {
   "cell_type": "code",
   "execution_count": 2,
   "id": "598dbd6e-c698-4e74-a7e2-f4cd9b00c048",
   "metadata": {},
   "outputs": [],
   "source": [
    "from qiskit import *\n",
    "import numpy as np\n",
    "from matplotlib import pyplot as plt"
   ]
  },
  {
   "cell_type": "markdown",
   "id": "2a56bd09-5c15-4190-b0b3-54fcef6f6b30",
   "metadata": {},
   "source": [
    "#### Creates a T-gate and applies it to perform one iteration of the IPEA  "
   ]
  },
  {
   "cell_type": "code",
   "execution_count": 3,
   "id": "8d147f42-108d-4088-8407-71ba81524305",
   "metadata": {},
   "outputs": [],
   "source": [
    "def buildControlledT(p, m):\n",
    "\n",
    "    # initialize the circuit\n",
    "    qc = QuantumCircuit(2, 1)\n",
    "\n",
    "    # Hardmard on ancilla, now in |+>\n",
    "    qc.h(0)\n",
    "\n",
    "    # initialize to |1>\n",
    "    qc.x(1)\n",
    "\n",
    "    # applying T gate to qubit 1\n",
    "    for i in range(2**m):\n",
    "        qc.cp(np.pi/4, 0, 1)\n",
    "\n",
    "    # phase correction\n",
    "    qc.rz(p, 0)\n",
    "\n",
    "    # inverse QFT (in other words, just measuring in the x-basis)\n",
    "    qc.h(0)\n",
    "\n",
    "    qc.measure([0],[0])\n",
    "\n",
    "    return qc"
   ]
  },
  {
   "cell_type": "markdown",
   "id": "1295811d-5fe6-4b99-8896-abf24ffef963",
   "metadata": {},
   "source": [
    "#### The IPEA (aka iQPE or IPE) algorithm, returns the n bits needed to compute psi"
   ]
  },
  {
   "cell_type": "code",
   "execution_count": 4,
   "id": "12ec17bc-f861-4c83-86e8-0e8e180ca73b",
   "metadata": {},
   "outputs": [],
   "source": [
    "def IPEA(k, backend_string):\n",
    "\n",
    "    # get backend\n",
    "    if backend_string == 'qpu':\n",
    "        backend = provider.get_backend('ionq_qpu')\n",
    "    elif backend_string == 'qasm':\n",
    "        # backend = Aer.get_backend('qasm_simulator')\n",
    "        backend = provider.get_backend(\"ionq_simulator\")\n",
    "    \n",
    "    # bits\n",
    "    bits = []\n",
    "\n",
    "    # phase correction\n",
    "    phase = 0.0\n",
    "    \n",
    "    # loop over iterations \n",
    "    for i in range(k-1, -1, -1):\n",
    "       \n",
    "        # construct the circuit\n",
    "        qc = buildControlledT(phase, i)\n",
    "         \n",
    "        # run the circuit\n",
    "        # job = execute(qc, backend)\n",
    "        job = backend.run(qc, shots=10000)\n",
    "        \n",
    "        if backend_string == 'qpu':\n",
    "            from qiskit.providers.jobstatus import JobStatus\n",
    "            import time\n",
    "            # Check if job is done\n",
    "            while job.status() is not JobStatus.DONE:\n",
    "                print(\"Job status is\", job.status() )\n",
    "                time.sleep(60)\n",
    "\n",
    "            # grab a coffee! This can take up to a few minutes.\n",
    "            # once we break out of that while loop, we know our job is finished\n",
    "            print(\"Job status is\", job.status() )\n",
    "            print(job.get_counts()) # these counts are the “true” counts from the actual QPU Run\n",
    "        \n",
    "        # get result\n",
    "        result = job.result()\n",
    "\n",
    "        # get current bit\n",
    "        this_bit = int(max(result.get_counts(), key=result.get_counts().get))\n",
    "        print(result.get_counts())\n",
    "\n",
    "        bits.append(this_bit)\n",
    "\n",
    "        # update phase correction\n",
    "        phase /= 2\n",
    "        phase -= (2 * np.pi * this_bit / 4.0)\n",
    "\n",
    "    return bits"
   ]
  },
  {
   "cell_type": "markdown",
   "id": "96642232-6cfb-41d4-89cb-2219e9e26854",
   "metadata": {},
   "source": [
    "#### Take in list of phi's and return an eigenvalue associated with |phi>"
   ]
  },
  {
   "cell_type": "code",
   "execution_count": 5,
   "id": "4f3e61e0-26d7-42b9-aa81-8abfe401e8a3",
   "metadata": {},
   "outputs": [],
   "source": [
    "def eig_from_bits(bits):\n",
    "    \n",
    "    eig = 0.\n",
    "\n",
    "    m = len(bits)\n",
    "\n",
    "    # loop over all bits\n",
    "    for k in range(len(bits)):\n",
    "        eig += bits[k] / (2**(m-k))\n",
    "\n",
    "    #eig *= 2*np.pi\n",
    "\n",
    "    return eig"
   ]
  },
  {
   "cell_type": "markdown",
   "id": "779001d2-46fc-4263-bdb5-3c0927a5d8e7",
   "metadata": {},
   "source": [
    "## Run it on the IONQ Simulator"
   ]
  },
  {
   "cell_type": "markdown",
   "id": "e3ad76fe-62be-482b-a1a1-16d98a877bcf",
   "metadata": {},
   "source": [
    "#### Can we get our 1/8?"
   ]
  },
  {
   "cell_type": "code",
   "execution_count": 6,
   "id": "965125a8-a828-43ba-89f8-c66eb17e0429",
   "metadata": {},
   "outputs": [
    {
     "name": "stdout",
     "output_type": "stream",
     "text": [
      "{'0': np.int64(10000)}\n",
      "{'0': np.int64(10000)}\n",
      "{'1': np.int64(10000)}\n",
      "{'0': np.int64(10000)}\n",
      "{'0': np.int64(10000)}\n",
      "[0, 0, 1, 0, 0]\n",
      "0.125\n"
     ]
    }
   ],
   "source": [
    "backend = 'qasm'\n",
    "bits = IPEA(5, backend)\n",
    "print(bits)\n",
    "\n",
    "# re-construct energy\n",
    "eig = eig_from_bits(bits)\n",
    "\n",
    "print(eig)"
   ]
  },
  {
   "cell_type": "markdown",
   "id": "86c4f961-856c-4512-be39-4f4acffa8c80",
   "metadata": {},
   "source": [
    "#### What's the effect of n on the result obtained?"
   ]
  },
  {
   "cell_type": "code",
   "execution_count": 7,
   "id": "7b07024a-2ddd-4c7c-ad8e-495e65c4ccb0",
   "metadata": {},
   "outputs": [
    {
     "name": "stdout",
     "output_type": "stream",
     "text": [
      "{'0': np.int64(8543), '1': np.int64(1457)}\n",
      "{'0': np.int64(4949), '1': np.int64(5051)}\n",
      "{'0': np.int64(8514), '1': np.int64(1486)}\n",
      "{'1': np.int64(10000)}\n",
      "{'0': np.int64(10000)}\n",
      "{'0': np.int64(10000)}\n",
      "{'0': np.int64(10000)}\n",
      "{'1': np.int64(10000)}\n",
      "{'0': np.int64(10000)}\n",
      "{'0': np.int64(10000)}\n",
      "{'0': np.int64(10000)}\n",
      "{'0': np.int64(10000)}\n",
      "{'1': np.int64(10000)}\n",
      "{'0': np.int64(10000)}\n",
      "{'0': np.int64(10000)}\n",
      "{'0': np.int64(10000)}\n",
      "{'0': np.int64(10000)}\n",
      "{'0': np.int64(10000)}\n",
      "{'1': np.int64(10000)}\n",
      "{'0': np.int64(10000)}\n",
      "{'0': np.int64(10000)}\n",
      "{'0': np.int64(10000)}\n",
      "{'0': np.int64(10000)}\n",
      "{'0': np.int64(10000)}\n",
      "{'0': np.int64(10000)}\n",
      "{'1': np.int64(10000)}\n",
      "{'0': np.int64(10000)}\n",
      "{'0': np.int64(10000)}\n"
     ]
    },
    {
     "data": {
      "text/plain": [
       "Text(0.5, 1.0, '$\\\\phi$ vs. n')"
      ]
     },
     "execution_count": 7,
     "metadata": {},
     "output_type": "execute_result"
    },
    {
     "data": {
      "image/png": "[encoded data removed]",
      "text/plain": [
       "<Figure size 640x480 with 1 Axes>"
      ]
     },
     "metadata": {},
     "output_type": "display_data"
    }
   ],
   "source": [
    "#perform IPEA with different values of n\n",
    "n_values = []\n",
    "eig_values = []\n",
    "for i in range(1, 8):\n",
    "    n_values.append(i)\n",
    "    # perform IPEA\n",
    "    backend = 'qasm'\n",
    "    bits = IPEA(i, backend)\n",
    "\n",
    "    # re-construct energy\n",
    "    eig = eig_from_bits(bits)\n",
    "    eig_values.append(eig)\n",
    "\n",
    "n_values, eig_values = np.array(n_values), np.array(eig_values)\n",
    "plt.plot(n_values, eig_values)\n",
    "plt.xlabel('n (bits)', fontsize=15)\n",
    "plt.ylabel(r'$\\phi$', fontsize=15)\n",
    "plt.title(r'$\\phi$ vs. n', fontsize=15)"
   ]
  },
  {
   "cell_type": "markdown",
   "id": "68bf73a4-73e2-4003-882a-c52e94c15a9d",
   "metadata": {},
   "source": [
    "## Try it on Real IONQ Hardware"
   ]
  },
  {
   "cell_type": "code",
   "execution_count": 8,
   "id": "ffcd775b-a0d7-4be2-a9b1-da798afba382",
   "metadata": {},
   "outputs": [],
   "source": [
    "# perform IPEA\n",
    "\n",
    "#backend = 'qpu'\n",
    "#bits = IPEA(5, backend)\n",
    "#print(bits)\n",
    "\n",
    "# re-construct energy\n",
    "#eig = eig_from_bits(bits)\n",
    "\n",
    "#print(eig)"
   ]
  },
  {
   "cell_type": "code",
   "execution_count": 9,
   "id": "a0d9b4df-01a6-4d0a-bb41-fc6545069faf",
   "metadata": {},
   "outputs": [],
   "source": [
    "#perform IPEA with different values of n\n",
    "\n",
    "#n_values = []\n",
    "#eig_values = []\n",
    "#for i in range(1, 8):\n",
    "#    n_values.append(i)\n",
    "    # perform IPEA\n",
    "#    backend = 'qpu'\n",
    "#    bits = IPEA(i, backend)\n",
    "\n",
    "    # re-construct energy\n",
    "#    eig = eig_from_bits(bits)\n",
    "#    eig_values.append(eig)\n",
    "\n",
    "#n_values, eig_values = np.array(n_values), np.array(eig_values)\n",
    "#plt.plot(n_values, eig_values)\n",
    "#plt.xlabel('n (bits)', fontsize=15)\n",
    "#plt.ylabel(r'$\\phi$', fontsize=15)\n",
    "#plt.title(r'$\\phi$ vs. n', fontsize=15)"
   ]
  },
  {
   "cell_type": "code",
   "execution_count": null,
   "id": "86c8841c-bfb4-4f09-ab2e-f19b9f857f51",
   "metadata": {},
   "outputs": [],
   "source": []
  }
 ],
 "metadata": {
  "kernelspec": {
   "display_name": "ionq_py311",
   "language": "python",
   "name": "ionq_py311"
  },
  "language_info": {
   "codemirror_mode": {
    "name": "ipython",
    "version": 3
   },
   "file_extension": ".py",
   "mimetype": "text/x-python",
   "name": "python",
   "nbconvert_exporter": "python",
   "pygments_lexer": "ipython3",
   "version": "3.11.9"
  }
 },
 "nbformat": 4,
 "nbformat_minor": 5
}
