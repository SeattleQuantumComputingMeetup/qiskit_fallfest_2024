{
 "cells": [
  {
   "cell_type": "markdown",
   "id": "5d62ba21-353c-4cb1-a4d6-8522c8fa1a91",
   "metadata": {},
   "source": [
    "# Let's Estimate the Phase of a Hydrogen Molecule,\n",
    "## using the Iterative Quantum Phase Estimation Algorithm"
   ]
  },
  {
   "cell_type": "markdown",
   "id": "dcd2c877-ef1e-421e-8e19-c7d8b4cad44d",
   "metadata": {},
   "source": [
    "#### We can run the algorithm on either an IONQ Simulator, or on an actual IONQ QPU"
   ]
  },
  {
   "cell_type": "code",
   "execution_count": 1,
   "id": "22cd46af-366d-4c7a-930d-b67530a2a376",
   "metadata": {},
   "outputs": [
    {
     "name": "stdout",
     "output_type": "stream",
     "text": [
      "[<IonQSimulatorBackend('ionq_simulator')>, <IonQQPUBackend('ionq_qpu')>]\n"
     ]
    }
   ],
   "source": [
    "from qiskit_ionq import IonQProvider\n",
    "provider = IonQProvider()\n",
    "\n",
    "print(provider.backends())"
   ]
  },
  {
   "cell_type": "markdown",
   "id": "3bd8b9d8-5f8b-4f83-84bd-a4ea4913e519",
   "metadata": {},
   "source": [
    "#### Import necessary libraries to define the algorithm and explore the results"
   ]
  },
  {
   "cell_type": "code",
   "execution_count": 3,
   "id": "19c10691-88de-4c56-bcf6-8fca33762c4f",
   "metadata": {},
   "outputs": [],
   "source": [
    "from qiskit import *\n",
    "import numpy as np\n",
    "from matplotlib import pyplot as plt"
   ]
  },
  {
   "cell_type": "code",
   "execution_count": 12,
   "id": "13eb1275-1657-4689-96d4-1e103ab067db",
   "metadata": {},
   "outputs": [],
   "source": [
    "g = {\"I\": -0.4804, \"Z0\": 0.3435, \"Z1\": -0.4347, \"Z0Z1\": 0.5716, \"X0X1\": 0.0910, \"Y0Y1\": 0.0910}"
   ]
  },
  {
   "cell_type": "code",
   "execution_count": 13,
   "id": "a0d57b2a-d2c1-4135-9da8-08c3d2c4db2b",
   "metadata": {},
   "outputs": [],
   "source": [
    "\"\"\"\n",
    "  This function implements the controlled exp(-iHt)\n",
    "  Inputs:\n",
    "    phase: phase to correct\n",
    "    weights: Pauli weights\n",
    "    time: Time\n",
    "    order_index: Pauli operator index\n",
    "    iter_num: iteration\n",
    "    trotter_step: trotter steps\n",
    "\n",
    "  Output:\n",
    "    qc: Quantum circuit\n",
    "\"\"\"\n",
    "def buildControlledHam(phase, time, iter_num):\n",
    "\n",
    "    # initialize the circuit\n",
    "    qc = QuantumCircuit(3, 3)\n",
    "\n",
    "    # Hardmard on ancilla\n",
    "    qc.h(0)\n",
    "\n",
    "    # initialize to |01>\n",
    "    qc.x(2)\n",
    "    \n",
    "    # Z0 \n",
    "    qc.crz(g[\"Z0\"] * time * 2 * 2**iter_num, 0, 2)\n",
    "\n",
    "    # Y0Y1\n",
    "    qc.rz(np.pi/2, 1)\n",
    "    qc.rz(np.pi/2, 2)\n",
    "    qc.h(1)\n",
    "    qc.h(2)\n",
    "    qc.cx(1, 2)\n",
    "    qc.crz(g[\"Y0Y1\"] * time * 2 * 2**iter_num, 0, 2)\n",
    "    qc.cx(1, 2)\n",
    "    qc.h(1)\n",
    "    qc.h(2)\n",
    "    qc.rz(-np.pi/2, 1)\n",
    "    qc.rz(-np.pi/2, 2)\n",
    "            \n",
    "    # Z1\n",
    "    qc.crz(g[\"Z1\"] * time * 2 * 2**iter_num, 0, 1)\n",
    "\n",
    "    # X0X1\n",
    "    qc.h(1)\n",
    "    qc.h(2)\n",
    "    qc.cx(1, 2)\n",
    "    qc.crz(g[\"X0X1\"] * time * 2 * 2**iter_num, 0, 2)\n",
    "    qc.cx(1, 2)\n",
    "    qc.h(1)\n",
    "    qc.h(2)\n",
    "\n",
    "    # phase correction\n",
    "    qc.rz(phase, 0)\n",
    "\n",
    "    # inverse QFT\n",
    "    qc.h(0)\n",
    "\n",
    "    qc.measure([0, 1, 2],[0, 1, 2])\n",
    "\n",
    "    return qc"
   ]
  },
  {
   "cell_type": "code",
   "execution_count": 19,
   "id": "9c2b57cb-e4b9-4346-8267-4c33ab8c2965",
   "metadata": {},
   "outputs": [],
   "source": [
    "\"\"\"\n",
    "  This function implements the controlled exp(-iHt)\n",
    "  Inputs:\n",
    "    weights: Pauli weights\n",
    "    time: Time\n",
    "    order_index: Pauli operator index\n",
    "    tot_num_iter: number of iterations\n",
    "    trotter_step: trotter steps\n",
    "\n",
    "  Output:\n",
    "    bits: list of measured bits\n",
    "\"\"\"\n",
    "def IPEA(time, tot_num_iter, backend_id):\n",
    "\n",
    "    # get backend\n",
    "    if (backend_id == \"qasm_simulator\"):\n",
    "        # backend = Aer.get_backend(backend_id)\n",
    "        backend = provider.get_backend(\"ionq_simulator\")\n",
    "    else:\n",
    "        backend = provider.get_backend(\"ionq_qpu\")\n",
    "\n",
    "    # bits\n",
    "    bits = []\n",
    "\n",
    "    # phase correction\n",
    "    phase = 0.0\n",
    "\n",
    "    # loop over iterations \n",
    "    for i in range(tot_num_iter-1, -1, -1):\n",
    "\n",
    "        # construct the circuit\n",
    "        qc = buildControlledHam(phase, time, i)\n",
    "        # run the circuit\n",
    "        # job = execute(qc, backend)\n",
    "        job = backend.run(qc, shots=10000)\n",
    "        \n",
    "        if (backend_id == \"ionq_qpu\"):\n",
    "\n",
    "            # Check if job is done\n",
    "            while job.status() is not JobStatus.DONE:\n",
    "                print(\"Job status is\", job.status() )\n",
    "                timer.sleep(60)\n",
    "\n",
    "            # once we break out of that while loop, we know our job is finished\n",
    "            print(\"Job status is\", job.status() )\n",
    "\n",
    "        # get result\n",
    "        result = job.result()\n",
    "\n",
    "        # get current bit\n",
    "        this_bit = int(max(result.get_counts(), key=result.get_counts().get)[-1])\n",
    "        \n",
    "        bits.append(this_bit)\n",
    "\n",
    "        # update phase correction\n",
    "        phase /= 2\n",
    "        phase -= (2 * np.pi * this_bit / 4.0)\n",
    "\n",
    "    return bits"
   ]
  },
  {
   "cell_type": "code",
   "execution_count": 15,
   "id": "b5976ce5-875a-4cd7-9628-f9e070cd07f8",
   "metadata": {},
   "outputs": [],
   "source": [
    "\"\"\"\n",
    "  This function that computes eigenvalues from bit list\n",
    "  Inputs:\n",
    "    bits: list of measured bits\n",
    "    time: Time\n",
    "\n",
    "  Output:\n",
    "    eig: eigenvalue\n",
    "\"\"\"\n",
    "def eig_from_bits(bits, time):\n",
    "\n",
    "    eig = 0.\n",
    "\n",
    "    m = len(bits)\n",
    "\n",
    "    # loop over all bits\n",
    "    for k in range(len(bits)):\n",
    "        eig += bits[k] / (2**(m-k))\n",
    "\n",
    "    eig *= -2*np.pi\n",
    "    eig /= time\n",
    "\n",
    "    return eig"
   ]
  },
  {
   "cell_type": "code",
   "execution_count": 16,
   "id": "e84dfd02-9bc9-400a-b51d-4aefb02859c4",
   "metadata": {},
   "outputs": [],
   "source": [
    "\"\"\"\n",
    "  This function that performs classical post-processing\n",
    "  Inputs:\n",
    "    eig:     eigenvalue\n",
    "    weights: Pauli operator weights\n",
    "    R:       Bond distance\n",
    "\n",
    "  Output:\n",
    "    energy: total energy\n",
    "\"\"\"\n",
    "def post_process(eig, weights, R):\n",
    "\n",
    "    # initialize energy\n",
    "    energy = eig\n",
    "\n",
    "    # Z0Z1 contribution\n",
    "    energy -= weights[\"Z0Z1\"]\n",
    "\n",
    "    # I contribution\n",
    "    energy += weights[\"I\"]\n",
    "\n",
    "    # Nuclear Repulsion ( assume R is in Angstrom )\n",
    "    energy += 1.0/ (R * 1.88973)\n",
    "\n",
    "    # return energy \n",
    "    return energy"
   ]
  },
  {
   "cell_type": "code",
   "execution_count": 17,
   "id": "4e782342-ddea-452b-b23b-8c7802618fe5",
   "metadata": {},
   "outputs": [],
   "source": [
    "# backend\n",
    "backend_id = \"qasm_simulator\"\n",
    "\n",
    "# Bond Length\n",
    "R = 0.75\n",
    "\n",
    "# time \n",
    "t = 0.74\n",
    "\n",
    "# number of iteration\n",
    "max_num_iter = 8"
   ]
  },
  {
   "cell_type": "code",
   "execution_count": null,
   "id": "2c32d7fd-eef1-4748-bc12-ea7a5a85af72",
   "metadata": {},
   "outputs": [],
   "source": [
    "# pip install pyscf, ERROR: is failing to build installable wheels for some pyproject.toml based projects\n",
    "#import pyscf\n",
    "#from pyscf import gto, scf, cc"
   ]
  },
  {
   "cell_type": "code",
   "execution_count": 22,
   "id": "f2d4c1dc-e84a-45aa-83bf-3b4153c5f329",
   "metadata": {},
   "outputs": [],
   "source": [
    "# get exact energy \n",
    "# This function initialises a molecule\n",
    "\n",
    "#mol = pyscf.M(\n",
    "#    atom = 'H 0 0 0; H 0 0 0.75',  # in Angstrom\n",
    "#    basis = 'sto-6g',\n",
    "#    symmetry = False,\n",
    "#)\n",
    "#myhf = mol.RHF().run()\n",
    "\n",
    "# create an FCI solver based on the SCF object\n",
    "#\n",
    "#cisolver = pyscf.fci.FCI(myhf)\n",
    "#print('E(FCI) = %.12f' % cisolver.kernel()[0])"
   ]
  },
  {
   "cell_type": "markdown",
   "id": "9daf212b-f4ec-431a-8a22-31a3e6610f02",
   "metadata": {},
   "source": [
    "#### Results: \n",
    "converged SCF energy = -1.1247307455369 <br>\n",
    "E(FCI) = -1.145741671075\n"
   ]
  },
  {
   "cell_type": "code",
   "execution_count": 20,
   "id": "323c2e29-7f51-471e-8489-29261dd4fd58",
   "metadata": {},
   "outputs": [
    {
     "name": "stdout",
     "output_type": "stream",
     "text": [
      "-0.0 eig\n",
      "Total Energy is -0.3464318 for R = 0.75, t = 0.740 with 1 iterations\n",
      "-0.0 eig\n",
      "Total Energy is -0.3464318 for R = 0.75, t = 0.740 with 2 iterations\n",
      "-1.0613488694560111 eig\n",
      "Total Energy is -1.4077807 for R = 0.75, t = 0.740 with 3 iterations\n",
      "-0.5306744347280056 eig\n",
      "Total Energy is -0.8771063 for R = 0.75, t = 0.740 with 4 iterations\n",
      "-0.7960116520920084 eig\n",
      "Total Energy is -1.1424435 for R = 0.75, t = 0.740 with 5 iterations\n",
      "-0.7960116520920084 eig\n",
      "Total Energy is -1.1424435 for R = 0.75, t = 0.740 with 6 iterations\n",
      "-0.7960116520920084 eig\n",
      "Total Energy is -1.1424435 for R = 0.75, t = 0.740 with 7 iterations\n",
      "-0.7960116520920084 eig\n",
      "Total Energy is -1.1424435 for R = 0.75, t = 0.740 with 8 iterations\n"
     ]
    }
   ],
   "source": [
    "error_list = []\n",
    "\n",
    "# perform IPEA\n",
    "for i in range(1, max_num_iter + 1):\n",
    "    bits = IPEA(t, i, backend_id)\n",
    "\n",
    "    # re-construct phase\n",
    "    eig = eig_from_bits(bits, t)\n",
    "    print(eig, 'eig')\n",
    "\n",
    "    # re-construct energy\n",
    "    eng = post_process(eig, g, R)\n",
    "                \n",
    "    print(\"Total Energy is %.7f for R = %.2f, t = %.3f with %d iterations\" % (eng, R, t, i) )"
   ]
  },
  {
   "cell_type": "code",
   "execution_count": null,
   "id": "312aa2d1-1c16-41b4-97e4-a66870f3e206",
   "metadata": {},
   "outputs": [],
   "source": [
    "#backend_id = \"qpu\"\n",
    "#error_list = []\n",
    "\n",
    "# perform IPEA\n",
    "#for i in range(1, max_num_iter + 1):\n",
    "#    bits = IPEA(t, i, backend_id)\n",
    "\n",
    "    # re-construct phase\n",
    "#    eig = eig_from_bits(bits, t)\n",
    "\n",
    "    # re-construct energy\n",
    "#    eng = post_process(eig, g, R)\n",
    "                \n",
    "#    print(\"Total Energy is %.7f for R = %.2f, t = %.3f with %d iterations\" % (eng, R, t, i) )"
   ]
  }
 ],
 "metadata": {
  "kernelspec": {
   "display_name": "ionq_py311",
   "language": "python",
   "name": "ionq_py311"
  },
  "language_info": {
   "codemirror_mode": {
    "name": "ipython",
    "version": 3
   },
   "file_extension": ".py",
   "mimetype": "text/x-python",
   "name": "python",
   "nbconvert_exporter": "python",
   "pygments_lexer": "ipython3",
   "version": "3.11.9"
  }
 },
 "nbformat": 4,
 "nbformat_minor": 5
}
